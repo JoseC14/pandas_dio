{
 "cells": [
  {
   "cell_type": "code",
   "execution_count": 1,
   "id": "357d185a-91ab-4aaf-9866-0edae71abfe5",
   "metadata": {},
   "outputs": [],
   "source": [
    "#Analisando dados de crimes"
   ]
  },
  {
   "cell_type": "code",
   "execution_count": 2,
   "id": "bdf620a1-9358-459e-8e00-6666bb8dfb6d",
   "metadata": {},
   "outputs": [],
   "source": [
    "import pandas as pd"
   ]
  },
  {
   "cell_type": "code",
   "execution_count": 3,
   "id": "0e80b3d6-891a-45b1-bc83-1a18cda24348",
   "metadata": {},
   "outputs": [],
   "source": [
    "# lendo os dados da planilha e armazenando em um dataframe\n",
    "df = pd.read_csv('crimes.csv')"
   ]
  },
  {
   "cell_type": "code",
   "execution_count": 4,
   "id": "ab5a707e-af87-4892-b1b6-94f23ae481b2",
   "metadata": {},
   "outputs": [
    {
     "name": "stdout",
     "output_type": "stream",
     "text": [
      "<bound method NDFrame.head of       Reported Date Suburb - Incident Postcode - Incident  \\\n",
      "0        01/07/2022          ADELAIDE                5000   \n",
      "1        01/07/2022          ADELAIDE                5000   \n",
      "2        01/07/2022          ADELAIDE                5000   \n",
      "3        01/07/2022          ADELAIDE                5000   \n",
      "4        01/07/2022          ADELAIDE                5000   \n",
      "...             ...               ...                 ...   \n",
      "97073    30/06/2023   WOODVILLE SOUTH                5011   \n",
      "97074    30/06/2023   WOODVILLE SOUTH                5011   \n",
      "97075    30/06/2023         WYNN VALE                5127   \n",
      "97076    30/06/2023               NaN                 NaN   \n",
      "97077    30/06/2023               NaN                 NaN   \n",
      "\n",
      "       Offence Level 1 Description           Offence Level 2 Description  \\\n",
      "0        OFFENCES AGAINST PROPERTY  FRAUD DECEPTION AND RELATED OFFENCES   \n",
      "1        OFFENCES AGAINST PROPERTY     PROPERTY DAMAGE AND ENVIRONMENTAL   \n",
      "2        OFFENCES AGAINST PROPERTY     PROPERTY DAMAGE AND ENVIRONMENTAL   \n",
      "3        OFFENCES AGAINST PROPERTY             SERIOUS CRIMINAL TRESPASS   \n",
      "4        OFFENCES AGAINST PROPERTY            THEFT AND RELATED OFFENCES   \n",
      "...                            ...                                   ...   \n",
      "97073    OFFENCES AGAINST PROPERTY            THEFT AND RELATED OFFENCES   \n",
      "97074  OFFENCES AGAINST THE PERSON         ACTS INTENDED TO CAUSE INJURY   \n",
      "97075  OFFENCES AGAINST THE PERSON         ACTS INTENDED TO CAUSE INJURY   \n",
      "97076    OFFENCES AGAINST PROPERTY            THEFT AND RELATED OFFENCES   \n",
      "97077  OFFENCES AGAINST THE PERSON     OTHER OFFENCES AGAINST THE PERSON   \n",
      "\n",
      "                       Offence Level 3 Description  Offence count  \n",
      "0      Other fraud, deception and related offences              1  \n",
      "1                                         Graffiti              1  \n",
      "2          Other property damage and environmental              2  \n",
      "3                 Other unlawful entry with intent              1  \n",
      "4                                      Other theft              2  \n",
      "...                                            ...            ...  \n",
      "97073                                  Other theft              1  \n",
      "97074                               Common Assault              1  \n",
      "97075          Serious Assault resulting in injury              1  \n",
      "97076                              Theft from shop              1  \n",
      "97077     Abduction, harassment and other offences              1  \n",
      "\n",
      "[97078 rows x 7 columns]>\n"
     ]
    }
   ],
   "source": [
    " print(df.head)"
   ]
  },
  {
   "cell_type": "code",
   "execution_count": 5,
   "id": "631d967f-0182-463a-a95a-58a68666bf44",
   "metadata": {},
   "outputs": [
    {
     "name": "stdout",
     "output_type": "stream",
     "text": [
      "(97078, 7)\n"
     ]
    }
   ],
   "source": [
    "print(df.shape)"
   ]
  },
  {
   "cell_type": "code",
   "execution_count": 6,
   "id": "90508bf9-ef99-4446-8903-0209e1779c2e",
   "metadata": {},
   "outputs": [
    {
     "name": "stdout",
     "output_type": "stream",
     "text": [
      "0        01/07/2022\n",
      "1        01/07/2022\n",
      "2        01/07/2022\n",
      "3        01/07/2022\n",
      "4        01/07/2022\n",
      "            ...    \n",
      "97073    30/06/2023\n",
      "97074    30/06/2023\n",
      "97075    30/06/2023\n",
      "97076    30/06/2023\n",
      "97077    30/06/2023\n",
      "Name: Reported Date, Length: 97078, dtype: object\n"
     ]
    }
   ],
   "source": [
    "print(df[\"Reported Date\"])"
   ]
  },
  {
   "cell_type": "code",
   "execution_count": 10,
   "id": "0b7e156f-3ae7-4f1e-9646-fb7dbf003389",
   "metadata": {},
   "outputs": [],
   "source": [
    "local_crime = df['Suburb - Incident'].value_counts()\n",
    "\n",
    "local_crime_recorrente = local_crime.idxmax()"
   ]
  },
  {
   "cell_type": "code",
   "execution_count": 11,
   "id": "2fcc0078-e696-4b0c-a62e-e6542988d6c5",
   "metadata": {},
   "outputs": [
    {
     "name": "stdout",
     "output_type": "stream",
     "text": [
      "ADELAIDE\n"
     ]
    }
   ],
   "source": [
    "#Local que ocorreu mais crimes\n",
    "print(local_crime_recorrente)"
   ]
  },
  {
   "cell_type": "code",
   "execution_count": 12,
   "id": "59e024ee-96f4-4f4b-8287-8311ed064aee",
   "metadata": {},
   "outputs": [
    {
     "name": "stdout",
     "output_type": "stream",
     "text": [
      "5108\n"
     ]
    }
   ],
   "source": [
    "#Codigo do crime que mais ocorreu\n",
    "crime = df['Postcode - Incident'].value_counts()\n",
    "cod_crime_recorrente = crime.idxmax()\n",
    "print(cod_crime_recorrente)"
   ]
  },
  {
   "cell_type": "code",
   "execution_count": null,
   "id": "aeaf1375-034d-4419-a81e-15c9dc16cc23",
   "metadata": {},
   "outputs": [],
   "source": []
  }
 ],
 "metadata": {
  "kernelspec": {
   "display_name": "Python 3 (ipykernel)",
   "language": "python",
   "name": "python3"
  },
  "language_info": {
   "codemirror_mode": {
    "name": "ipython",
    "version": 3
   },
   "file_extension": ".py",
   "mimetype": "text/x-python",
   "name": "python",
   "nbconvert_exporter": "python",
   "pygments_lexer": "ipython3",
   "version": "3.11.6"
  }
 },
 "nbformat": 4,
 "nbformat_minor": 5
}
